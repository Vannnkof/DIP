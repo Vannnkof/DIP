{
  "nbformat": 4,
  "nbformat_minor": 0,
  "metadata": {
    "kernelspec": {
      "display_name": "Python 3",
      "language": "python",
      "name": "python3"
    },
    "language_info": {
      "codemirror_mode": {
        "name": "ipython",
        "version": 3
      },
      "file_extension": ".py",
      "mimetype": "text/x-python",
      "name": "python",
      "nbconvert_exporter": "python",
      "pygments_lexer": "ipython3",
      "version": "3.6.9"
    },
    "colab": {
      "name": "Intro_to_Numpy.ipynb",
      "provenance": []
    }
  },
  "cells": [
    {
      "cell_type": "markdown",
      "metadata": {
        "id": "hqURNpziBKo2",
        "colab_type": "text"
      },
      "source": [
        "# Початок роботи з бібліотекою Numpy"
      ]
    },
    {
      "cell_type": "markdown",
      "metadata": {
        "id": "LX6qPYddBKo8",
        "colab_type": "text"
      },
      "source": [
        "У даній лабораторній роботі розглянуто наступний функціонал бібліотеки Numpy:\n",
        "1. Створення масиву.\n",
        "2. Відображення масивів .\n",
        "3. Базові операції з масивами."
      ]
    },
    {
      "cell_type": "markdown",
      "metadata": {
        "id": "hc8faX7nBKo-",
        "colab_type": "text"
      },
      "source": [
        "## Імпорт бібліотек та пакетів"
      ]
    },
    {
      "cell_type": "markdown",
      "metadata": {
        "id": "OKJFNIuhBKpB",
        "colab_type": "text"
      },
      "source": [
        "Завантажуємо бібліотеку numpy та використаємо скорочення np."
      ]
    },
    {
      "cell_type": "code",
      "metadata": {
        "id": "aUZKPQp9BKpD",
        "colab_type": "code",
        "colab": {}
      },
      "source": [
        "import numpy as np\n",
        "import matplotlib.pyplot as plt\n",
        "import cv2"
      ],
      "execution_count": 0,
      "outputs": []
    },
    {
      "cell_type": "markdown",
      "metadata": {
        "id": "FaDBtWYMBKpR",
        "colab_type": "text"
      },
      "source": [
        "## Створеня масиву"
      ]
    },
    {
      "cell_type": "markdown",
      "metadata": {
        "id": "FM5QggmIBKpS",
        "colab_type": "text"
      },
      "source": [
        "Існує кілька способів створення масивів.\n",
        "Наприклад, можливе створення масиву зі звичайного списку Python або за допомогою функції масиву. Тип отриманого масиву обирається відповідно до типу елементів у послідовностях."
      ]
    },
    {
      "cell_type": "code",
      "metadata": {
        "id": "_p_nzzfxBKpV",
        "colab_type": "code",
        "colab": {},
        "outputId": "bb71cc3a-6f83-4cd5-fe6c-8cc53405c8f8"
      },
      "source": [
        "a = np.array([2,3,4])\n",
        "a"
      ],
      "execution_count": 0,
      "outputs": [
        {
          "output_type": "execute_result",
          "data": {
            "text/plain": [
              "array([2, 3, 4])"
            ]
          },
          "metadata": {
            "tags": []
          },
          "execution_count": 2
        }
      ]
    },
    {
      "cell_type": "markdown",
      "metadata": {
        "id": "H0LVapSTBKpg",
        "colab_type": "text"
      },
      "source": [
        "#### Друк типу масиву"
      ]
    },
    {
      "cell_type": "code",
      "metadata": {
        "id": "oHf4iZcRBKpt",
        "colab_type": "code",
        "colab": {},
        "outputId": "659131a5-29dc-4ee8-96c7-09927bb799d6"
      },
      "source": [
        "a.dtype"
      ],
      "execution_count": 0,
      "outputs": [
        {
          "output_type": "execute_result",
          "data": {
            "text/plain": [
              "dtype('int64')"
            ]
          },
          "metadata": {
            "tags": []
          },
          "execution_count": 3
        }
      ]
    },
    {
      "cell_type": "code",
      "metadata": {
        "id": "siKvxtCWBKp4",
        "colab_type": "code",
        "colab": {},
        "outputId": "5f48e145-c639-4ec6-d44d-7b14a4bff567"
      },
      "source": [
        "b = np.array([1.2, 3.5, 5.1])\n",
        "b.dtype"
      ],
      "execution_count": 0,
      "outputs": [
        {
          "output_type": "execute_result",
          "data": {
            "text/plain": [
              "dtype('float64')"
            ]
          },
          "metadata": {
            "tags": []
          },
          "execution_count": 4
        }
      ]
    },
    {
      "cell_type": "markdown",
      "metadata": {
        "id": "vpYUnARdBKqD",
        "colab_type": "text"
      },
      "source": [
        "#### Часта помилка полягає у виклику масиву з кількома числовими аргументами, а не в наданні єдиного списку чисел як аргументу."
      ]
    },
    {
      "cell_type": "code",
      "metadata": {
        "id": "9Pn0Ft-_BKqF",
        "colab_type": "code",
        "colab": {},
        "outputId": "e943bb72-47c5-46be-eb99-9f864e6796fb"
      },
      "source": [
        "a = np.array(1,2,3,4)    # ПОМИЛКА"
      ],
      "execution_count": 0,
      "outputs": [
        {
          "output_type": "error",
          "ename": "ValueError",
          "evalue": "only 2 non-keyword arguments accepted",
          "traceback": [
            "\u001b[0;31m---------------------------------------------------------------------------\u001b[0m",
            "\u001b[0;31mValueError\u001b[0m                                Traceback (most recent call last)",
            "\u001b[0;32m<ipython-input-5-341b73b3abe4>\u001b[0m in \u001b[0;36m<module>\u001b[0;34m()\u001b[0m\n\u001b[0;32m----> 1\u001b[0;31m \u001b[0ma\u001b[0m \u001b[0;34m=\u001b[0m \u001b[0mnp\u001b[0m\u001b[0;34m.\u001b[0m\u001b[0marray\u001b[0m\u001b[0;34m(\u001b[0m\u001b[0;36m1\u001b[0m\u001b[0;34m,\u001b[0m\u001b[0;36m2\u001b[0m\u001b[0;34m,\u001b[0m\u001b[0;36m3\u001b[0m\u001b[0;34m,\u001b[0m\u001b[0;36m4\u001b[0m\u001b[0;34m)\u001b[0m    \u001b[0;31m# ПОМИЛКА\u001b[0m\u001b[0;34m\u001b[0m\u001b[0;34m\u001b[0m\u001b[0m\n\u001b[0m",
            "\u001b[0;31mValueError\u001b[0m: only 2 non-keyword arguments accepted"
          ]
        }
      ]
    },
    {
      "cell_type": "code",
      "metadata": {
        "id": "0Gd4ZOaBBKqT",
        "colab_type": "code",
        "colab": {},
        "outputId": "dd874d99-c5f7-4c9c-964f-4fdd6a075ec6"
      },
      "source": [
        "a = np.array([1,2,3,4])  # ВІРНО\n",
        "a"
      ],
      "execution_count": 0,
      "outputs": [
        {
          "output_type": "execute_result",
          "data": {
            "text/plain": [
              "array([1, 2, 3, 4])"
            ]
          },
          "metadata": {
            "tags": []
          },
          "execution_count": 6
        }
      ]
    },
    {
      "cell_type": "markdown",
      "metadata": {
        "id": "CQ5lUPywBKqb",
        "colab_type": "text"
      },
      "source": [
        "Також можливе створення багатовимірних масивів"
      ]
    },
    {
      "cell_type": "code",
      "metadata": {
        "id": "UB1Dhp7-BKqd",
        "colab_type": "code",
        "colab": {},
        "outputId": "c2afd7ca-1591-460f-a0d8-dd89a33d4564"
      },
      "source": [
        "b = np.array([(1.5,2,3), (4,5,6)])\n",
        "b"
      ],
      "execution_count": 0,
      "outputs": [
        {
          "output_type": "execute_result",
          "data": {
            "text/plain": [
              "array([[1.5, 2. , 3. ],\n",
              "       [4. , 5. , 6. ]])"
            ]
          },
          "metadata": {
            "tags": []
          },
          "execution_count": 7
        }
      ]
    },
    {
      "cell_type": "markdown",
      "metadata": {
        "id": "PxizyIk3BKqs",
        "colab_type": "text"
      },
      "source": [
        "Тип масиву також може бути явно вказаний під час створення:"
      ]
    },
    {
      "cell_type": "code",
      "metadata": {
        "id": "bg-1LkPOBKqy",
        "colab_type": "code",
        "colab": {},
        "outputId": "84d2bb8f-9d68-4f6b-bfb4-eb6d1191b321"
      },
      "source": [
        "c = np.array( [ [1,2], [3,4] ], dtype=complex )\n",
        "c"
      ],
      "execution_count": 0,
      "outputs": [
        {
          "output_type": "execute_result",
          "data": {
            "text/plain": [
              "array([[1.+0.j, 2.+0.j],\n",
              "       [3.+0.j, 4.+0.j]])"
            ]
          },
          "metadata": {
            "tags": []
          },
          "execution_count": 8
        }
      ]
    },
    {
      "cell_type": "markdown",
      "metadata": {
        "id": "5ISAaUJGBKq8",
        "colab_type": "text"
      },
      "source": [
        "Часто елементи масиву спочатку невідомі, але його розмір відомий. Отже, NumPy пропонує кілька функцій для створення масивів з початковим вмістом.\n",
        "\n",
        "**np.zeros()** створює масив, заповнений нулями, **np.ones()** створюють масив, повний одиниць, а функція **np.empty()** створює масив, початковий вміст якого є випадковим і залежить від стану пам'яті. За замовчуванням типом створеного масиву є float64."
      ]
    },
    {
      "cell_type": "code",
      "metadata": {
        "id": "OP8qE9kJBKq9",
        "colab_type": "code",
        "colab": {},
        "outputId": "88e8ed9b-c020-4a77-e610-c4ba541f3609"
      },
      "source": [
        "np.zeros((3,4))"
      ],
      "execution_count": 0,
      "outputs": [
        {
          "output_type": "execute_result",
          "data": {
            "text/plain": [
              "array([[0., 0., 0., 0.],\n",
              "       [0., 0., 0., 0.],\n",
              "       [0., 0., 0., 0.]])"
            ]
          },
          "metadata": {
            "tags": []
          },
          "execution_count": 9
        }
      ]
    },
    {
      "cell_type": "code",
      "metadata": {
        "id": "dT5ix5KqBKrN",
        "colab_type": "code",
        "colab": {},
        "outputId": "32d1d496-7531-456a-8e4e-d4989a864178"
      },
      "source": [
        "np.ones((2,3,4), dtype=np.int16) "
      ],
      "execution_count": 0,
      "outputs": [
        {
          "output_type": "execute_result",
          "data": {
            "text/plain": [
              "array([[[1, 1, 1, 1],\n",
              "        [1, 1, 1, 1],\n",
              "        [1, 1, 1, 1]],\n",
              "\n",
              "       [[1, 1, 1, 1],\n",
              "        [1, 1, 1, 1],\n",
              "        [1, 1, 1, 1]]], dtype=int16)"
            ]
          },
          "metadata": {
            "tags": []
          },
          "execution_count": 10
        }
      ]
    },
    {
      "cell_type": "code",
      "metadata": {
        "id": "iypTE1RGBKrZ",
        "colab_type": "code",
        "colab": {},
        "outputId": "cb2c6ff4-28c1-4c7f-9783-83799688a001"
      },
      "source": [
        "np.empty((2,3)) "
      ],
      "execution_count": 0,
      "outputs": [
        {
          "output_type": "execute_result",
          "data": {
            "text/plain": [
              "array([[1.5, 2. , 3. ],\n",
              "       [4. , 5. , 6. ]])"
            ]
          },
          "metadata": {
            "tags": []
          },
          "execution_count": 11
        }
      ]
    },
    {
      "cell_type": "markdown",
      "metadata": {
        "id": "MZvCeJvGBKrj",
        "colab_type": "text"
      },
      "source": [
        "Коли використовується ранжування чисел із плаваючою точкою, як правило, неможливо передбачити кількість одержаних елементів через точність кінцевої плаваючої точки. З цієї причини, як правило, краще використовувати функцію **np.linspace**, яка отримує в якості аргументу кількість потрібних нам елементів, а не крок:"
      ]
    },
    {
      "cell_type": "code",
      "metadata": {
        "id": "uDyYW8CaBKrl",
        "colab_type": "code",
        "colab": {},
        "outputId": "70392315-9d87-4567-9746-8c1879b2f790"
      },
      "source": [
        "from numpy import pi\n",
        "np.linspace(0, 2, 9)                 # 9 чисел від 0 до 2"
      ],
      "execution_count": 0,
      "outputs": [
        {
          "output_type": "execute_result",
          "data": {
            "text/plain": [
              "array([0.  , 0.25, 0.5 , 0.75, 1.  , 1.25, 1.5 , 1.75, 2.  ])"
            ]
          },
          "metadata": {
            "tags": []
          },
          "execution_count": 12
        }
      ]
    },
    {
      "cell_type": "code",
      "metadata": {
        "id": "3rCRWQ9MBKrz",
        "colab_type": "code",
        "colab": {}
      },
      "source": [
        "x = np.linspace(0, 2*pi, 100)        \n",
        "f = np.sin(x)"
      ],
      "execution_count": 0,
      "outputs": []
    },
    {
      "cell_type": "markdown",
      "metadata": {
        "id": "xUY8qKEwBKr7",
        "colab_type": "text"
      },
      "source": [
        "### Виведення масиву"
      ]
    },
    {
      "cell_type": "code",
      "metadata": {
        "id": "2p8Ovfj5BKr8",
        "colab_type": "code",
        "colab": {},
        "outputId": "51219f9f-f4c1-4e8c-8276-2702ed39250c"
      },
      "source": [
        "a = np.arange(6)                         # 1-мірний масив\n",
        "print(a)"
      ],
      "execution_count": 0,
      "outputs": [
        {
          "output_type": "stream",
          "text": [
            "[0 1 2 3 4 5]\n"
          ],
          "name": "stdout"
        }
      ]
    },
    {
      "cell_type": "code",
      "metadata": {
        "id": "9jfPtuWXBKsF",
        "colab_type": "code",
        "colab": {},
        "outputId": "1d80165f-9d2b-4a5a-a6c8-663936107725"
      },
      "source": [
        "b = np.arange(12).reshape(4,3)           # 2-мірний масив\n",
        "print(b)"
      ],
      "execution_count": 0,
      "outputs": [
        {
          "output_type": "stream",
          "text": [
            "[[ 0  1  2]\n",
            " [ 3  4  5]\n",
            " [ 6  7  8]\n",
            " [ 9 10 11]]\n"
          ],
          "name": "stdout"
        }
      ]
    },
    {
      "cell_type": "code",
      "metadata": {
        "id": "qycxKppsBKsO",
        "colab_type": "code",
        "colab": {},
        "outputId": "8c541461-703d-4109-9291-3dc7554a4445"
      },
      "source": [
        "c = np.arange(24).reshape(2,3,4)         # 3-мірний масив\n",
        "print(c)"
      ],
      "execution_count": 0,
      "outputs": [
        {
          "output_type": "stream",
          "text": [
            "[[[ 0  1  2  3]\n",
            "  [ 4  5  6  7]\n",
            "  [ 8  9 10 11]]\n",
            "\n",
            " [[12 13 14 15]\n",
            "  [16 17 18 19]\n",
            "  [20 21 22 23]]]\n"
          ],
          "name": "stdout"
        }
      ]
    },
    {
      "cell_type": "markdown",
      "metadata": {
        "id": "yu7URRNpBKsX",
        "colab_type": "text"
      },
      "source": [
        "### Базові операції"
      ]
    },
    {
      "cell_type": "markdown",
      "metadata": {
        "id": "8q66xfFGBKsY",
        "colab_type": "text"
      },
      "source": [
        "Арифметичні оператори на масивах застосовуються по елементно. Створюється новий масив і заповнюється результатом."
      ]
    },
    {
      "cell_type": "code",
      "metadata": {
        "id": "bHEmbF3NBKsZ",
        "colab_type": "code",
        "colab": {},
        "outputId": "02ab1daa-d51e-468c-ead7-5538ae296f5b"
      },
      "source": [
        "a = np.array( [20,30,40,50] )\n",
        "b = np.arange( 4 )\n",
        "b"
      ],
      "execution_count": 0,
      "outputs": [
        {
          "output_type": "execute_result",
          "data": {
            "text/plain": [
              "array([0, 1, 2, 3])"
            ]
          },
          "metadata": {
            "tags": []
          },
          "execution_count": 17
        }
      ]
    },
    {
      "cell_type": "code",
      "metadata": {
        "id": "voKu0kq7BKsg",
        "colab_type": "code",
        "colab": {},
        "outputId": "71752872-5f6d-4b78-c32d-cc75a7c5eb4d"
      },
      "source": [
        "c = a-b\n",
        "c"
      ],
      "execution_count": 0,
      "outputs": [
        {
          "output_type": "execute_result",
          "data": {
            "text/plain": [
              "array([20, 29, 38, 47])"
            ]
          },
          "metadata": {
            "tags": []
          },
          "execution_count": 18
        }
      ]
    },
    {
      "cell_type": "markdown",
      "metadata": {
        "id": "FoRGhzaYBKss",
        "colab_type": "text"
      },
      "source": [
        "#### Зведення в ступінь"
      ]
    },
    {
      "cell_type": "code",
      "metadata": {
        "id": "87m_ps4OBKst",
        "colab_type": "code",
        "colab": {},
        "outputId": "62d594d2-32f2-4e38-e4ea-52975335fe82"
      },
      "source": [
        "b**2"
      ],
      "execution_count": 0,
      "outputs": [
        {
          "output_type": "execute_result",
          "data": {
            "text/plain": [
              "array([0, 1, 4, 9])"
            ]
          },
          "metadata": {
            "tags": []
          },
          "execution_count": 19
        }
      ]
    },
    {
      "cell_type": "markdown",
      "metadata": {
        "id": "cdAsakTqBKs5",
        "colab_type": "text"
      },
      "source": [
        "#### Множення"
      ]
    },
    {
      "cell_type": "code",
      "metadata": {
        "id": "KdESfJtqBKs6",
        "colab_type": "code",
        "colab": {},
        "outputId": "1a3dbf58-cd0d-4127-8575-00aa0c6badef"
      },
      "source": [
        "10*np.sin(a)"
      ],
      "execution_count": 0,
      "outputs": [
        {
          "output_type": "execute_result",
          "data": {
            "text/plain": [
              "array([ 9.12945251, -9.88031624,  7.4511316 , -2.62374854])"
            ]
          },
          "metadata": {
            "tags": []
          },
          "execution_count": 20
        }
      ]
    },
    {
      "cell_type": "markdown",
      "metadata": {
        "id": "KCR2oFQPBKtC",
        "colab_type": "text"
      },
      "source": [
        "#### Нерівність"
      ]
    },
    {
      "cell_type": "code",
      "metadata": {
        "id": "2U-M3hUOBKtE",
        "colab_type": "code",
        "colab": {},
        "outputId": "01f3b56b-6aaf-42db-914d-1f43355f4545"
      },
      "source": [
        "a<35"
      ],
      "execution_count": 0,
      "outputs": [
        {
          "output_type": "execute_result",
          "data": {
            "text/plain": [
              "array([ True,  True, False, False])"
            ]
          },
          "metadata": {
            "tags": []
          },
          "execution_count": 21
        }
      ]
    },
    {
      "cell_type": "markdown",
      "metadata": {
        "id": "zsA7xmc1BKtL",
        "colab_type": "text"
      },
      "source": [
        "На відміну від багатьох матричних мов програмування, оператор множення $*$ працює по елементно в масивах NumPy. Матричне множення можна виконати за допомогою оператора **@** або методу **dot**:"
      ]
    },
    {
      "cell_type": "code",
      "metadata": {
        "id": "Gc6t2ui7BKtM",
        "colab_type": "code",
        "colab": {}
      },
      "source": [
        "A = np.array([[1,1],\n",
        "              [0,1]] )\n",
        "\n",
        "B = np.array([[2,0],\n",
        "              [3,4]] )"
      ],
      "execution_count": 0,
      "outputs": []
    },
    {
      "cell_type": "markdown",
      "metadata": {
        "id": "ks-WAQYVBKtS",
        "colab_type": "text"
      },
      "source": [
        "По елементне множення"
      ]
    },
    {
      "cell_type": "code",
      "metadata": {
        "id": "nxyesxkZBKtT",
        "colab_type": "code",
        "colab": {},
        "outputId": "c60f4473-48d1-44ce-9f19-f76fdf1bd864"
      },
      "source": [
        "A * B                       "
      ],
      "execution_count": 0,
      "outputs": [
        {
          "output_type": "execute_result",
          "data": {
            "text/plain": [
              "array([[2, 0],\n",
              "       [0, 4]])"
            ]
          },
          "metadata": {
            "tags": []
          },
          "execution_count": 23
        }
      ]
    },
    {
      "cell_type": "markdown",
      "metadata": {
        "id": "-gAatxV1BKtb",
        "colab_type": "text"
      },
      "source": [
        "Матричне множення"
      ]
    },
    {
      "cell_type": "code",
      "metadata": {
        "id": "m7E3kb7wBKtc",
        "colab_type": "code",
        "colab": {},
        "outputId": "435a9c0b-2a3c-43a8-c46d-da8e2db51d2b"
      },
      "source": [
        "A @ B                     "
      ],
      "execution_count": 0,
      "outputs": [
        {
          "output_type": "execute_result",
          "data": {
            "text/plain": [
              "array([[5, 4],\n",
              "       [3, 4]])"
            ]
          },
          "metadata": {
            "tags": []
          },
          "execution_count": 24
        }
      ]
    },
    {
      "cell_type": "markdown",
      "metadata": {
        "id": "pcCNUPgVBKti",
        "colab_type": "text"
      },
      "source": [
        "Матричне множення"
      ]
    },
    {
      "cell_type": "code",
      "metadata": {
        "id": "zQW_m5GFBKtj",
        "colab_type": "code",
        "colab": {},
        "outputId": "d42c5fe1-85ec-4009-be1d-ed049b8abe17"
      },
      "source": [
        "A.dot(B)"
      ],
      "execution_count": 0,
      "outputs": [
        {
          "output_type": "execute_result",
          "data": {
            "text/plain": [
              "array([[5, 4],\n",
              "       [3, 4]])"
            ]
          },
          "metadata": {
            "tags": []
          },
          "execution_count": 25
        }
      ]
    },
    {
      "cell_type": "markdown",
      "metadata": {
        "id": "r8IXdM6RBKtu",
        "colab_type": "text"
      },
      "source": [
        "Багато унарних операцій, таких як обчислення суми всіх елементів масиву, реалізовані як методи класу ndarray."
      ]
    },
    {
      "cell_type": "code",
      "metadata": {
        "id": "IJRSbBcpBKtv",
        "colab_type": "code",
        "colab": {},
        "outputId": "8cafccaa-c902-4d36-d3d7-0f597c70d0ab"
      },
      "source": [
        "a = np.random.random((2,3))\n",
        "a"
      ],
      "execution_count": 0,
      "outputs": [
        {
          "output_type": "execute_result",
          "data": {
            "text/plain": [
              "array([[0.8807238 , 0.80954498, 0.4363596 ],\n",
              "       [0.31225657, 0.15228422, 0.57718236]])"
            ]
          },
          "metadata": {
            "tags": []
          },
          "execution_count": 26
        }
      ]
    },
    {
      "cell_type": "markdown",
      "metadata": {
        "id": "qWiyPeEIBKt8",
        "colab_type": "text"
      },
      "source": [
        "Сумування елементів масиву"
      ]
    },
    {
      "cell_type": "code",
      "metadata": {
        "id": "iqF1iVe5BKt9",
        "colab_type": "code",
        "colab": {},
        "outputId": "a9f695e6-4079-44ac-89b8-483831fa0d7b"
      },
      "source": [
        "a.sum()"
      ],
      "execution_count": 0,
      "outputs": [
        {
          "output_type": "execute_result",
          "data": {
            "text/plain": [
              "3.168351538476806"
            ]
          },
          "metadata": {
            "tags": []
          },
          "execution_count": 27
        }
      ]
    },
    {
      "cell_type": "markdown",
      "metadata": {
        "id": "HuY0GimcBKuD",
        "colab_type": "text"
      },
      "source": [
        "Визначення мінімального значення"
      ]
    },
    {
      "cell_type": "code",
      "metadata": {
        "id": "Udg9XD3QBKuE",
        "colab_type": "code",
        "colab": {},
        "outputId": "8065457f-540f-4ce9-b28c-c5fe38a42fdd"
      },
      "source": [
        "a.min()"
      ],
      "execution_count": 0,
      "outputs": [
        {
          "output_type": "execute_result",
          "data": {
            "text/plain": [
              "0.15228422498698901"
            ]
          },
          "metadata": {
            "tags": []
          },
          "execution_count": 28
        }
      ]
    },
    {
      "cell_type": "markdown",
      "metadata": {
        "id": "J-2XeI2xBKuQ",
        "colab_type": "text"
      },
      "source": [
        "Визначення максимального значення"
      ]
    },
    {
      "cell_type": "code",
      "metadata": {
        "id": "fHgO3AWzBKuR",
        "colab_type": "code",
        "colab": {},
        "outputId": "5202a96e-42f6-4db1-d951-1f8d7ddfd934"
      },
      "source": [
        "a.max()"
      ],
      "execution_count": 0,
      "outputs": [
        {
          "output_type": "execute_result",
          "data": {
            "text/plain": [
              "0.8807238047576498"
            ]
          },
          "metadata": {
            "tags": []
          },
          "execution_count": 29
        }
      ]
    },
    {
      "cell_type": "markdown",
      "metadata": {
        "id": "QkijwvbdBKuY",
        "colab_type": "text"
      },
      "source": [
        "#### Робота із рядками та стовпцями"
      ]
    },
    {
      "cell_type": "code",
      "metadata": {
        "id": "GYWay0GIBKua",
        "colab_type": "code",
        "colab": {},
        "outputId": "be533e42-3987-4701-d84a-41e71dd22eaa"
      },
      "source": [
        "b = np.arange(12).reshape(3,4)\n",
        "b"
      ],
      "execution_count": 0,
      "outputs": [
        {
          "output_type": "execute_result",
          "data": {
            "text/plain": [
              "array([[ 0,  1,  2,  3],\n",
              "       [ 4,  5,  6,  7],\n",
              "       [ 8,  9, 10, 11]])"
            ]
          },
          "metadata": {
            "tags": []
          },
          "execution_count": 30
        }
      ]
    },
    {
      "cell_type": "markdown",
      "metadata": {
        "id": "owRse19SBKun",
        "colab_type": "text"
      },
      "source": [
        "Сумування кожного стовпця"
      ]
    },
    {
      "cell_type": "code",
      "metadata": {
        "id": "z4mWURefBKuq",
        "colab_type": "code",
        "colab": {},
        "outputId": "43969142-7353-490f-9b62-ad53468cb54b"
      },
      "source": [
        "b.sum(axis=0)                       "
      ],
      "execution_count": 0,
      "outputs": [
        {
          "output_type": "execute_result",
          "data": {
            "text/plain": [
              "array([12, 15, 18, 21])"
            ]
          },
          "metadata": {
            "tags": []
          },
          "execution_count": 31
        }
      ]
    },
    {
      "cell_type": "markdown",
      "metadata": {
        "id": "wo9cLIe7BKu2",
        "colab_type": "text"
      },
      "source": [
        "Мінімальні елементи в кожному стовпці"
      ]
    },
    {
      "cell_type": "code",
      "metadata": {
        "id": "PctMnoCpBKu3",
        "colab_type": "code",
        "colab": {},
        "outputId": "c70351ed-82da-44a9-f349-372bad745112"
      },
      "source": [
        "b.min(axis=0)                          "
      ],
      "execution_count": 0,
      "outputs": [
        {
          "output_type": "execute_result",
          "data": {
            "text/plain": [
              "array([0, 1, 2, 3])"
            ]
          },
          "metadata": {
            "tags": []
          },
          "execution_count": 32
        }
      ]
    },
    {
      "cell_type": "markdown",
      "metadata": {
        "id": "H-xuGutmBKvG",
        "colab_type": "text"
      },
      "source": [
        "Максимальні елементи в кожному рядку"
      ]
    },
    {
      "cell_type": "code",
      "metadata": {
        "id": "FDyUcy7mBKvH",
        "colab_type": "code",
        "colab": {},
        "outputId": "937d0ea9-f62c-4844-9ad4-755cfb5f3ac6"
      },
      "source": [
        "b.max(axis=1)  "
      ],
      "execution_count": 0,
      "outputs": [
        {
          "output_type": "execute_result",
          "data": {
            "text/plain": [
              "array([ 3,  7, 11])"
            ]
          },
          "metadata": {
            "tags": []
          },
          "execution_count": 33
        }
      ]
    },
    {
      "cell_type": "markdown",
      "metadata": {
        "id": "cnQfaipIBKvS",
        "colab_type": "text"
      },
      "source": [
        "### Індексування масивів"
      ]
    },
    {
      "cell_type": "code",
      "metadata": {
        "id": "fYHhxBS_BKvU",
        "colab_type": "code",
        "colab": {},
        "outputId": "fb87b22b-3508-4b9f-aa26-da2fb78df62d"
      },
      "source": [
        "a = np.arange(10)**3\n",
        "a"
      ],
      "execution_count": 0,
      "outputs": [
        {
          "output_type": "execute_result",
          "data": {
            "text/plain": [
              "array([  0,   1,   8,  27,  64, 125, 216, 343, 512, 729])"
            ]
          },
          "metadata": {
            "tags": []
          },
          "execution_count": 34
        }
      ]
    },
    {
      "cell_type": "markdown",
      "metadata": {
        "id": "WSRXaAOKBKvd",
        "colab_type": "text"
      },
      "source": [
        "Доступ до довільного елементу масиву"
      ]
    },
    {
      "cell_type": "code",
      "metadata": {
        "id": "_vF7Ogo-BKve",
        "colab_type": "code",
        "colab": {},
        "outputId": "e91afc9f-604a-4871-d6c5-dfbd65774de5"
      },
      "source": [
        "a[2]"
      ],
      "execution_count": 0,
      "outputs": [
        {
          "output_type": "execute_result",
          "data": {
            "text/plain": [
              "8"
            ]
          },
          "metadata": {
            "tags": []
          },
          "execution_count": 35
        }
      ]
    },
    {
      "cell_type": "markdown",
      "metadata": {
        "id": "ycIWD38FBKvk",
        "colab_type": "text"
      },
      "source": [
        "Доступ до декількох елементів масиву в зазначених межах"
      ]
    },
    {
      "cell_type": "code",
      "metadata": {
        "id": "ClnOD_AOBKvl",
        "colab_type": "code",
        "colab": {},
        "outputId": "1273307b-0069-4a14-d6d2-456c9ed1748b"
      },
      "source": [
        "a[2:5]"
      ],
      "execution_count": 0,
      "outputs": [
        {
          "output_type": "execute_result",
          "data": {
            "text/plain": [
              "array([ 8, 27, 64])"
            ]
          },
          "metadata": {
            "tags": []
          },
          "execution_count": 36
        }
      ]
    },
    {
      "cell_type": "markdown",
      "metadata": {
        "id": "glZHoLw-BKvv",
        "colab_type": "text"
      },
      "source": [
        "Ітеративна заміна значень масиву\n",
        "Зі стартової позиції 6 замінити кожен другий елемент на -1000"
      ]
    },
    {
      "cell_type": "code",
      "metadata": {
        "id": "3i6pbsGTBKvx",
        "colab_type": "code",
        "colab": {},
        "outputId": "69bfa19a-96d9-4774-9be3-c325100453a0"
      },
      "source": [
        "a[:6:2] = -1000\n",
        "a"
      ],
      "execution_count": 0,
      "outputs": [
        {
          "output_type": "execute_result",
          "data": {
            "text/plain": [
              "array([-1000,     1, -1000,    27, -1000,   125,   216,   343,   512,\n",
              "         729])"
            ]
          },
          "metadata": {
            "tags": []
          },
          "execution_count": 37
        }
      ]
    },
    {
      "cell_type": "markdown",
      "metadata": {
        "id": "q-gNNoP7BKwC",
        "colab_type": "text"
      },
      "source": [
        "Реверс масиву"
      ]
    },
    {
      "cell_type": "code",
      "metadata": {
        "id": "Va7FXeKNBKwD",
        "colab_type": "code",
        "colab": {},
        "outputId": "28edb122-20a3-49e3-f9e8-0f495571bf12"
      },
      "source": [
        "a[ : :-1]                               "
      ],
      "execution_count": 0,
      "outputs": [
        {
          "output_type": "execute_result",
          "data": {
            "text/plain": [
              "array([  729,   512,   343,   216,   125, -1000,    27, -1000,     1,\n",
              "       -1000])"
            ]
          },
          "metadata": {
            "tags": []
          },
          "execution_count": 38
        }
      ]
    },
    {
      "cell_type": "markdown",
      "metadata": {
        "id": "wcThJ4E4BKwS",
        "colab_type": "text"
      },
      "source": [
        "Доступ до елментів масиву через цикл"
      ]
    },
    {
      "cell_type": "code",
      "metadata": {
        "id": "Nt6qJ51KBKwT",
        "colab_type": "code",
        "colab": {},
        "outputId": "bfdeb784-eb20-4b70-c07b-a4a4b6c3aa03"
      },
      "source": [
        "for i in a:\n",
        "    print(\"%1.0f\" % (i**(1/3.)))"
      ],
      "execution_count": 0,
      "outputs": [
        {
          "output_type": "stream",
          "text": [
            "nan\n",
            "1\n",
            "nan\n",
            "3\n",
            "nan\n",
            "5\n",
            "6\n",
            "7\n",
            "8\n",
            "9\n"
          ],
          "name": "stdout"
        },
        {
          "output_type": "stream",
          "text": [
            "/home/svs/myenv/lib/python3.6/site-packages/ipykernel_launcher.py:2: RuntimeWarning: invalid value encountered in power\n",
            "  \n"
          ],
          "name": "stderr"
        }
      ]
    },
    {
      "cell_type": "markdown",
      "metadata": {
        "id": "YEP3df48BKwZ",
        "colab_type": "text"
      },
      "source": [
        "### Зміна розмірноста (\"форми\") масиву"
      ]
    },
    {
      "cell_type": "markdown",
      "metadata": {
        "id": "F6wM379hBKwb",
        "colab_type": "text"
      },
      "source": [
        "За допомогою функції **np.floor**, яка округлює число до цілого створимо масив із віипадковими числами."
      ]
    },
    {
      "cell_type": "code",
      "metadata": {
        "id": "HRO4OkAxBKwf",
        "colab_type": "code",
        "colab": {},
        "outputId": "de7e999b-f5ae-434d-dc54-1924c54c3602"
      },
      "source": [
        "a = np.floor(10*np.random.random((3,4)))\n",
        "a"
      ],
      "execution_count": 0,
      "outputs": [
        {
          "output_type": "execute_result",
          "data": {
            "text/plain": [
              "array([[1., 9., 9., 0.],\n",
              "       [4., 9., 2., 5.],\n",
              "       [6., 4., 0., 8.]])"
            ]
          },
          "metadata": {
            "tags": []
          },
          "execution_count": 40
        }
      ]
    },
    {
      "cell_type": "markdown",
      "metadata": {
        "id": "qVnXbcd8BKwl",
        "colab_type": "text"
      },
      "source": [
        "Визначення розмірності масиву"
      ]
    },
    {
      "cell_type": "code",
      "metadata": {
        "id": "eIS9sUmABKwm",
        "colab_type": "code",
        "colab": {},
        "outputId": "63d764e3-9fcb-4d5f-b7e9-1654f6af3615"
      },
      "source": [
        "a.shape"
      ],
      "execution_count": 0,
      "outputs": [
        {
          "output_type": "execute_result",
          "data": {
            "text/plain": [
              "(3, 4)"
            ]
          },
          "metadata": {
            "tags": []
          },
          "execution_count": 41
        }
      ]
    },
    {
      "cell_type": "markdown",
      "metadata": {
        "id": "bRjwHE0FBKws",
        "colab_type": "text"
      },
      "source": [
        "Форму масиву можна змінювати за допомогою різних команд. Зауважте, що всі наступні три команди повертають модифікований масив, але не змінюють початковий масив:"
      ]
    },
    {
      "cell_type": "markdown",
      "metadata": {
        "id": "j0tQRkr1BKwt",
        "colab_type": "text"
      },
      "source": [
        "Функція **ravel()** перетворює багатовимірний масив в одновимірний"
      ]
    },
    {
      "cell_type": "code",
      "metadata": {
        "id": "w1rVYI3hBKwu",
        "colab_type": "code",
        "colab": {},
        "outputId": "f3178081-7fe5-4253-c1ea-c9e7310b5bdd"
      },
      "source": [
        "a.ravel()  "
      ],
      "execution_count": 0,
      "outputs": [
        {
          "output_type": "execute_result",
          "data": {
            "text/plain": [
              "array([1., 9., 9., 0., 4., 9., 2., 5., 6., 4., 0., 8.])"
            ]
          },
          "metadata": {
            "tags": []
          },
          "execution_count": 42
        }
      ]
    },
    {
      "cell_type": "markdown",
      "metadata": {
        "id": "eMhA2QxQBKw4",
        "colab_type": "text"
      },
      "source": [
        "Функція **reshape()** змінює форму масиву на задану"
      ]
    },
    {
      "cell_type": "code",
      "metadata": {
        "id": "Zu3p7--uBKw5",
        "colab_type": "code",
        "colab": {},
        "outputId": "82aae394-c041-4b28-d9a6-4115579396b7"
      },
      "source": [
        "a.reshape(6,2)  "
      ],
      "execution_count": 0,
      "outputs": [
        {
          "output_type": "execute_result",
          "data": {
            "text/plain": [
              "array([[1., 9.],\n",
              "       [9., 0.],\n",
              "       [4., 9.],\n",
              "       [2., 5.],\n",
              "       [6., 4.],\n",
              "       [0., 8.]])"
            ]
          },
          "metadata": {
            "tags": []
          },
          "execution_count": 43
        }
      ]
    },
    {
      "cell_type": "markdown",
      "metadata": {
        "id": "QYSlIApZBKxI",
        "colab_type": "text"
      },
      "source": [
        "Транспонування масиву"
      ]
    },
    {
      "cell_type": "code",
      "metadata": {
        "id": "XyyiV2pHBKxL",
        "colab_type": "code",
        "colab": {},
        "outputId": "028da363-176f-470c-bab3-def878933443"
      },
      "source": [
        "a.T"
      ],
      "execution_count": 0,
      "outputs": [
        {
          "output_type": "execute_result",
          "data": {
            "text/plain": [
              "array([[1., 4., 6.],\n",
              "       [9., 9., 4.],\n",
              "       [9., 2., 0.],\n",
              "       [0., 5., 8.]])"
            ]
          },
          "metadata": {
            "tags": []
          },
          "execution_count": 44
        }
      ]
    },
    {
      "cell_type": "markdown",
      "metadata": {
        "id": "4D4Re1UlBKxW",
        "colab_type": "text"
      },
      "source": [
        "Визначення розмірності транспонованого масиву"
      ]
    },
    {
      "cell_type": "code",
      "metadata": {
        "id": "mlJF0w6mBKxX",
        "colab_type": "code",
        "colab": {},
        "outputId": "a3bbd19c-bcfd-4363-9669-85dc3f7d7239"
      },
      "source": [
        "a.T.shape"
      ],
      "execution_count": 0,
      "outputs": [
        {
          "output_type": "execute_result",
          "data": {
            "text/plain": [
              "(4, 3)"
            ]
          },
          "metadata": {
            "tags": []
          },
          "execution_count": 45
        }
      ]
    },
    {
      "cell_type": "markdown",
      "metadata": {
        "id": "I3AudL8aBKxg",
        "colab_type": "text"
      },
      "source": [
        "Визначення розмірності вихідного масиву"
      ]
    },
    {
      "cell_type": "code",
      "metadata": {
        "id": "arqWAGQNBKxj",
        "colab_type": "code",
        "colab": {},
        "outputId": "492753f8-30a5-4af4-9fdc-8c43fb3e339e"
      },
      "source": [
        "a.shape"
      ],
      "execution_count": 0,
      "outputs": [
        {
          "output_type": "execute_result",
          "data": {
            "text/plain": [
              "(3, 4)"
            ]
          },
          "metadata": {
            "tags": []
          },
          "execution_count": 46
        }
      ]
    },
    {
      "cell_type": "markdown",
      "metadata": {
        "id": "8cbLvnjFBKxu",
        "colab_type": "text"
      },
      "source": [
        "Функція **reshape()** повертає аргумент із зміненою формою, тоді як метод **resize()** змінює сам масив:"
      ]
    },
    {
      "cell_type": "code",
      "metadata": {
        "id": "whnMEi6HBKxv",
        "colab_type": "code",
        "colab": {},
        "outputId": "9329f6eb-7984-4a98-cd39-8bb370fa07df"
      },
      "source": [
        "a"
      ],
      "execution_count": 0,
      "outputs": [
        {
          "output_type": "execute_result",
          "data": {
            "text/plain": [
              "array([[1., 9., 9., 0.],\n",
              "       [4., 9., 2., 5.],\n",
              "       [6., 4., 0., 8.]])"
            ]
          },
          "metadata": {
            "tags": []
          },
          "execution_count": 47
        }
      ]
    },
    {
      "cell_type": "code",
      "metadata": {
        "id": "unQj1CfABKyc",
        "colab_type": "code",
        "colab": {},
        "outputId": "e26284cb-67ea-450e-bc08-c00a2d279b79"
      },
      "source": [
        "a.resize((2,6))\n",
        "a"
      ],
      "execution_count": 0,
      "outputs": [
        {
          "output_type": "execute_result",
          "data": {
            "text/plain": [
              "array([[1., 9., 9., 0., 4., 9.],\n",
              "       [2., 5., 6., 4., 0., 8.]])"
            ]
          },
          "metadata": {
            "tags": []
          },
          "execution_count": 48
        }
      ]
    },
    {
      "cell_type": "markdown",
      "metadata": {
        "id": "hBKaXrRoBKyo",
        "colab_type": "text"
      },
      "source": [
        "# Завдання\n",
        "## 1. Створити двомірний нульовий масив розміром 11х11 та заповнити його діагоналі одиницями.\n",
        "\n",
        "1.1. Задати розмір масиву"
      ]
    },
    {
      "cell_type": "code",
      "metadata": {
        "id": "gHyAZTjEBKyq",
        "colab_type": "code",
        "colab": {}
      },
      "source": [
        "size = 11"
      ],
      "execution_count": 0,
      "outputs": []
    },
    {
      "cell_type": "markdown",
      "metadata": {
        "id": "H-2MlB5_BKyt",
        "colab_type": "text"
      },
      "source": [
        "1.2. Створити нульовий масив заданого розміру"
      ]
    },
    {
      "cell_type": "code",
      "metadata": {
        "id": "ncHWfK1NBKyu",
        "colab_type": "code",
        "colab": {}
      },
      "source": [
        "arr = np.zeros((size,size))"
      ],
      "execution_count": 0,
      "outputs": []
    },
    {
      "cell_type": "markdown",
      "metadata": {
        "id": "WKHrk_tUBKy1",
        "colab_type": "text"
      },
      "source": [
        "1.3 Надрукувати створений масив"
      ]
    },
    {
      "cell_type": "code",
      "metadata": {
        "id": "ufDf72MIBKy2",
        "colab_type": "code",
        "colab": {
          "base_uri": "https://localhost:8080/",
          "height": 204
        },
        "outputId": "00c1f21a-ba0b-4b30-9966-db64539bcb8c"
      },
      "source": [
        "print(arr)"
      ],
      "execution_count": 5,
      "outputs": [
        {
          "output_type": "stream",
          "text": [
            "[[0. 0. 0. 0. 0. 0. 0. 0. 0. 0. 0.]\n",
            " [0. 0. 0. 0. 0. 0. 0. 0. 0. 0. 0.]\n",
            " [0. 0. 0. 0. 0. 0. 0. 0. 0. 0. 0.]\n",
            " [0. 0. 0. 0. 0. 0. 0. 0. 0. 0. 0.]\n",
            " [0. 0. 0. 0. 0. 0. 0. 0. 0. 0. 0.]\n",
            " [0. 0. 0. 0. 0. 0. 0. 0. 0. 0. 0.]\n",
            " [0. 0. 0. 0. 0. 0. 0. 0. 0. 0. 0.]\n",
            " [0. 0. 0. 0. 0. 0. 0. 0. 0. 0. 0.]\n",
            " [0. 0. 0. 0. 0. 0. 0. 0. 0. 0. 0.]\n",
            " [0. 0. 0. 0. 0. 0. 0. 0. 0. 0. 0.]\n",
            " [0. 0. 0. 0. 0. 0. 0. 0. 0. 0. 0.]]\n"
          ],
          "name": "stdout"
        }
      ]
    },
    {
      "cell_type": "markdown",
      "metadata": {
        "id": "AfljTzzRBKy6",
        "colab_type": "text"
      },
      "source": [
        "1.4 Змінити діагоналі за допомогою двох циклів"
      ]
    },
    {
      "cell_type": "code",
      "metadata": {
        "id": "ckCmwkqbBKy_",
        "colab_type": "code",
        "colab": {}
      },
      "source": [
        "for i in range(size):\n",
        "    for j in range(size):\n",
        "        if (i==j):\n",
        "            arr[i][-1-j] = 1\n",
        "            arr[i][j]=1"
      ],
      "execution_count": 0,
      "outputs": []
    },
    {
      "cell_type": "markdown",
      "metadata": {
        "id": "S9-baulzBKzQ",
        "colab_type": "text"
      },
      "source": [
        "1.5 Вивести створений масив"
      ]
    },
    {
      "cell_type": "code",
      "metadata": {
        "id": "fzjzayBMBKzS",
        "colab_type": "code",
        "colab": {
          "base_uri": "https://localhost:8080/",
          "height": 204
        },
        "outputId": "32bd590d-9cea-446f-f1d6-2237fb057653"
      },
      "source": [
        "print(arr)"
      ],
      "execution_count": 8,
      "outputs": [
        {
          "output_type": "stream",
          "text": [
            "[[1. 0. 0. 0. 0. 0. 0. 0. 0. 0. 1.]\n",
            " [0. 1. 0. 0. 0. 0. 0. 0. 0. 1. 0.]\n",
            " [0. 0. 1. 0. 0. 0. 0. 0. 1. 0. 0.]\n",
            " [0. 0. 0. 1. 0. 0. 0. 1. 0. 0. 0.]\n",
            " [0. 0. 0. 0. 1. 0. 1. 0. 0. 0. 0.]\n",
            " [0. 0. 0. 0. 0. 1. 0. 0. 0. 0. 0.]\n",
            " [0. 0. 0. 0. 1. 0. 1. 0. 0. 0. 0.]\n",
            " [0. 0. 0. 1. 0. 0. 0. 1. 0. 0. 0.]\n",
            " [0. 0. 1. 0. 0. 0. 0. 0. 1. 0. 0.]\n",
            " [0. 1. 0. 0. 0. 0. 0. 0. 0. 1. 0.]\n",
            " [1. 0. 0. 0. 0. 0. 0. 0. 0. 0. 1.]]\n"
          ],
          "name": "stdout"
        }
      ]
    },
    {
      "cell_type": "markdown",
      "metadata": {
        "id": "g-lRcpxrBKza",
        "colab_type": "text"
      },
      "source": [
        "## 2. Засобами NumPy створити вертикальні та горизонтальні зображення градієнту в обидва боки (поступове збільшення яскравості на зображенні).\n",
        "\n",
        "Приклад зображення градієнту\n",
        "<img src=\"https://github.com/Vannnkof/DIP/blob/Images/assignments/horizontal_grad.jpg?raw=1\" height=\"200\" width=\"200\">"
      ]
    },
    {
      "cell_type": "markdown",
      "metadata": {
        "id": "0Dz_TD2OBKzc",
        "colab_type": "text"
      },
      "source": [
        "### Горизонтальний градієнт"
      ]
    },
    {
      "cell_type": "markdown",
      "metadata": {
        "id": "-jZNfwEkBKzd",
        "colab_type": "text"
      },
      "source": [
        "2.1 Створити нульовий масив розміром 255х255"
      ]
    },
    {
      "cell_type": "code",
      "metadata": {
        "id": "VPKpuqhzBKzd",
        "colab_type": "code",
        "colab": {}
      },
      "source": [
        "horizontal_gradient1 = np.zeros((255,255))"
      ],
      "execution_count": 0,
      "outputs": []
    },
    {
      "cell_type": "markdown",
      "metadata": {
        "id": "TRIJXJkMBKzi",
        "colab_type": "text"
      },
      "source": [
        "2.2 Визначити розміри масиву"
      ]
    },
    {
      "cell_type": "code",
      "metadata": {
        "id": "xvd4YU5bBKzj",
        "colab_type": "code",
        "colab": {}
      },
      "source": [
        "w = horizontal_gradient1.shape[1]\n",
        "h = horizontal_gradient1.shape[0]"
      ],
      "execution_count": 0,
      "outputs": []
    },
    {
      "cell_type": "markdown",
      "metadata": {
        "id": "NTMCF1jNBKzq",
        "colab_type": "text"
      },
      "source": [
        "2.3 Поелементно змінити яскравості кожного пікселя"
      ]
    },
    {
      "cell_type": "code",
      "metadata": {
        "id": "xXCD6DVgBKzr",
        "colab_type": "code",
        "colab": {}
      },
      "source": [
        "for i in range(0,h):\n",
        "    for j in range(0,w):\n",
        "        horizontal_gradient1[i][j] = j"
      ],
      "execution_count": 0,
      "outputs": []
    },
    {
      "cell_type": "markdown",
      "metadata": {
        "id": "bF9EfXd9BKzy",
        "colab_type": "text"
      },
      "source": [
        "2.4 Записати зображення засабами OpenCV"
      ]
    },
    {
      "cell_type": "code",
      "metadata": {
        "id": "a7n9WbpnBKzz",
        "colab_type": "code",
        "colab": {
          "base_uri": "https://localhost:8080/",
          "height": 286
        },
        "outputId": "a188c771-ed65-4e7d-f1ec-85ebefccfe67"
      },
      "source": [
        "#cv2.imwrite('horizontal_grad1.jpg', horizontal_gradient1)#\n",
        "plt.imshow(horizontal_gradient1,cmap='gray')"
      ],
      "execution_count": 12,
      "outputs": [
        {
          "output_type": "execute_result",
          "data": {
            "text/plain": [
              "<matplotlib.image.AxesImage at 0x7f3450583438>"
            ]
          },
          "metadata": {
            "tags": []
          },
          "execution_count": 12
        },
        {
          "output_type": "display_data",
          "data": {
            "image/png": "[encoded data removed]",
            "text/plain": [
              "<Figure size 432x288 with 1 Axes>"
            ]
          },
          "metadata": {
            "tags": [],
            "needs_background": "light"
          }
        }
      ]
    },
    {
      "cell_type": "markdown",
      "metadata": {
        "id": "42klBbJeBKz2",
        "colab_type": "text"
      },
      "source": [
        "2.5 Аналогічно створити горизонтальний градієнт в інший бік"
      ]
    },
    {
      "cell_type": "code",
      "metadata": {
        "id": "MTCRlo6ABKz3",
        "colab_type": "code",
        "colab": {
          "base_uri": "https://localhost:8080/",
          "height": 286
        },
        "outputId": "f8582526-dd20-4ca1-a075-988fce22362d"
      },
      "source": [
        "horizontal_gradient2 = np.zeros((255,255))\n",
        "\n",
        "w = horizontal_gradient2.shape[1]\n",
        "h = horizontal_gradient2.shape[0]\n",
        "for i in range(0,h):\n",
        "    for j in range(0,w):\n",
        "        horizontal_gradient2[i][j] = 255-j \n",
        "        \n",
        "#cv2.imwrite('horizontal_grad2.jpg', horizontal_gradient2)#\n",
        "plt.imshow(horizontal_gradient2,cmap='gray')"
      ],
      "execution_count": 13,
      "outputs": [
        {
          "output_type": "execute_result",
          "data": {
            "text/plain": [
              "<matplotlib.image.AxesImage at 0x7f34500d85c0>"
            ]
          },
          "metadata": {
            "tags": []
          },
          "execution_count": 13
        },
        {
          "output_type": "display_data",
          "data": {
            "image/png": "[encoded data removed]",
            "text/plain": [
              "<Figure size 432x288 with 1 Axes>"
            ]
          },
          "metadata": {
            "tags": [],
            "needs_background": "light"
          }
        }
      ]
    },
    {
      "cell_type": "markdown",
      "metadata": {
        "id": "m9dHtzcKBK0K",
        "colab_type": "text"
      },
      "source": [
        "### Вертикальний градієнт"
      ]
    },
    {
      "cell_type": "markdown",
      "metadata": {
        "id": "QVprFzMhBK0M",
        "colab_type": "text"
      },
      "source": [
        "2.6 Створити нульовий масив розміром 255х255"
      ]
    },
    {
      "cell_type": "code",
      "metadata": {
        "id": "7gcK_TtUBK0N",
        "colab_type": "code",
        "colab": {}
      },
      "source": [
        "vertical_gradient1 = np.zeros((255,255))"
      ],
      "execution_count": 0,
      "outputs": []
    },
    {
      "cell_type": "markdown",
      "metadata": {
        "id": "_3F4mJbrBK0U",
        "colab_type": "text"
      },
      "source": [
        "2.7 Визначити розміри масиву"
      ]
    },
    {
      "cell_type": "code",
      "metadata": {
        "id": "pheWq33sBK0g",
        "colab_type": "code",
        "colab": {}
      },
      "source": [
        "w = vertical_gradient1.shape[1]\n",
        "h = vertical_gradient1.shape[0]"
      ],
      "execution_count": 0,
      "outputs": []
    },
    {
      "cell_type": "markdown",
      "metadata": {
        "id": "ObXM5KWLBK03",
        "colab_type": "text"
      },
      "source": [
        "2.8 Поелементно змінити яскравості кожного пікселя"
      ]
    },
    {
      "cell_type": "code",
      "metadata": {
        "id": "vYHz6zQtBK0_",
        "colab_type": "code",
        "colab": {}
      },
      "source": [
        "for i in range(0,w):\n",
        "    for j in range(0,h):\n",
        "        vertical_gradient1[j][i] = j"
      ],
      "execution_count": 0,
      "outputs": []
    },
    {
      "cell_type": "markdown",
      "metadata": {
        "id": "S6fzu90sBK1H",
        "colab_type": "text"
      },
      "source": [
        "2.9 Записати зображення засабами OpenCV"
      ]
    },
    {
      "cell_type": "code",
      "metadata": {
        "id": "Hq3tnuNSBK1J",
        "colab_type": "code",
        "colab": {
          "base_uri": "https://localhost:8080/",
          "height": 286
        },
        "outputId": "1e13fe39-4bed-47c9-8013-54511e46d3cb"
      },
      "source": [
        "#cv2.imwrite('vertical_grad1.jpg', vertical_gradient1)#\n",
        "plt.imshow(vertical_gradient1,cmap='gray')"
      ],
      "execution_count": 19,
      "outputs": [
        {
          "output_type": "execute_result",
          "data": {
            "text/plain": [
              "<matplotlib.image.AxesImage at 0x7f3450057198>"
            ]
          },
          "metadata": {
            "tags": []
          },
          "execution_count": 19
        },
        {
          "output_type": "display_data",
          "data": {
            "image/png": "[encoded data removed]",
            "text/plain": [
              "<Figure size 432x288 with 1 Axes>"
            ]
          },
          "metadata": {
            "tags": [],
            "needs_background": "light"
          }
        }
      ]
    },
    {
      "cell_type": "markdown",
      "metadata": {
        "id": "Tku7EXvpBK1Q",
        "colab_type": "text"
      },
      "source": [
        "2.10 Аналогічно створити горизонтальний градієнт в інший бік"
      ]
    },
    {
      "cell_type": "code",
      "metadata": {
        "id": "r76kuhEDBK1R",
        "colab_type": "code",
        "colab": {
          "base_uri": "https://localhost:8080/",
          "height": 286
        },
        "outputId": "555945b4-1754-4ac1-abcb-502c347a1636"
      },
      "source": [
        "vertical_gradient2 = np.zeros((255,255))\n",
        "\n",
        "w = vertical_gradient2.shape[1]\n",
        "h = vertical_gradient2.shape[0]\n",
        "\n",
        "for i in range(0,w):\n",
        "    for j in range(0,h):\n",
        "        vertical_gradient2[j][i] = 255-j\n",
        "        \n",
        "#cv2.imwrite('vertical_grad2.jpg', vertical_gradient2)#\n",
        "plt.imshow(vertical_gradient2,cmap='gray')\n"
      ],
      "execution_count": 20,
      "outputs": [
        {
          "output_type": "execute_result",
          "data": {
            "text/plain": [
              "<matplotlib.image.AxesImage at 0x7f345002f550>"
            ]
          },
          "metadata": {
            "tags": []
          },
          "execution_count": 20
        },
        {
          "output_type": "display_data",
          "data": {
            "image/png": "[encoded data removed]",
            "text/plain": [
              "<Figure size 432x288 with 1 Axes>"
            ]
          },
          "metadata": {
            "tags": [],
            "needs_background": "light"
          }
        }
      ]
    }
  ]
}